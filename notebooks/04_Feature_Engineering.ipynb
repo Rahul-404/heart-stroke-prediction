{
 "cells": [
  {
   "cell_type": "markdown",
   "id": "58064c0f",
   "metadata": {},
   "source": [
    "# Feature Engineering"
   ]
  },
  {
   "cell_type": "markdown",
   "id": "646d2994",
   "metadata": {},
   "source": [
    "**Feature Engineering** is the process of transforming raw data into features that better represent the underlying problem to predictive models, leading to improved model performance. It is a key step in the machine learning pipeline and often has a greater impact on model accuracy than the choice of model itself.\n",
    "\n",
    "\n",
    "### 🔧 Key Steps in Feature Engineering\n",
    "\n",
    "1. **Understanding the Data**\n",
    "\n",
    "   * Explore and visualize data to identify patterns, trends, outliers.\n",
    "   * Understand the domain and the meaning of each feature.\n",
    "\n",
    "2. **Handling Missing Values**\n",
    "\n",
    "   * Techniques: Imputation (mean/median/mode, KNN), deletion, or special category (\"Unknown\").\n",
    "\n",
    "3. **Encoding Categorical Variables**\n",
    "\n",
    "   * Label Encoding\n",
    "   * One-Hot Encoding\n",
    "   * Target Encoding / Mean Encoding\n",
    "   * Frequency Encoding\n",
    "\n",
    "4. **Creating New Features**\n",
    "\n",
    "   * Date & time features: Extract day, month, year, weekday, hour.\n",
    "   * Text features: Word counts, sentiment scores, TF-IDF, embeddings.\n",
    "   * Interaction features: Combine two or more features.\n",
    "   * Aggregations: Mean, sum, count by group.\n",
    "\n",
    "5. **Scaling/Normalization**\n",
    "\n",
    "   * StandardScaler (Z-score normalization)\n",
    "   * MinMaxScaler\n",
    "   * RobustScaler (for outliers)\n",
    "\n",
    "6. **Feature Selection**\n",
    "\n",
    "   * Filter Methods: Correlation, Chi-square.\n",
    "   * Wrapper Methods: Recursive Feature Elimination (RFE).\n",
    "   * Embedded Methods: Lasso, decision trees, feature importances.\n",
    "\n",
    "7. **Dimensionality Reduction**\n",
    "\n",
    "   * PCA (Principal Component Analysis)\n",
    "   * t-SNE, UMAP (for visualization)\n",
    "   * Autoencoders\n",
    "\n",
    "8. **Dealing with Imbalanced Data**\n",
    "\n",
    "   * SMOTE (Synthetic Minority Over-sampling Technique)\n",
    "   * Undersampling\n",
    "   * Creating ratio-based features"
   ]
  },
  {
   "cell_type": "code",
   "execution_count": null,
   "id": "00e05fa4",
   "metadata": {},
   "outputs": [],
   "source": []
  },
  {
   "cell_type": "markdown",
   "id": "4f766c6c",
   "metadata": {},
   "source": [
    "## Imports"
   ]
  },
  {
   "cell_type": "code",
   "execution_count": 1,
   "id": "d42f42a0",
   "metadata": {},
   "outputs": [],
   "source": [
    "# data manupulation\n",
    "import pandas as pd\n",
    "import numpy as np\n",
    "\n",
    "# data visualization\n",
    "import seaborn as sns\n",
    "import matplotlib.pyplot as plt\n",
    "import plotly.figure_factory as ff\n",
    "\n",
    "# stats\n",
    "import statsmodels.api as sm\n",
    "from scipy.stats import boxcox # this can't handle negative values\n",
    "from scipy.stats import yeojohnson # this ia extention to boxcox\n",
    "\n",
    "# encoder and scaling\n",
    "from sklearn.preprocessing import LabelEncoder, OneHotEncoder, OrdinalEncoder\n",
    "from sklearn.preprocessing import StandardScaler, MinMaxScaler, RobustScaler, MaxAbsScaler, Normalizer\n",
    "\n",
    "# utility\n",
    "import os\n",
    "from typing import List\n",
    "import string\n",
    "import time\n",
    "import re\n",
    "import ast\n",
    "import warnings\n",
    "warnings.filterwarnings('ignore')"
   ]
  },
  {
   "cell_type": "markdown",
   "id": "93870a71",
   "metadata": {},
   "source": [
    "## Read Clean Data"
   ]
  },
  {
   "cell_type": "code",
   "execution_count": 2,
   "id": "294a7b72",
   "metadata": {},
   "outputs": [],
   "source": [
    "DATA_DIR = os.path.join(\"data\", \"heart_stroke_clean_data.csv\")\n",
    "df = pd.read_csv(DATA_DIR)"
   ]
  },
  {
   "cell_type": "code",
   "execution_count": 3,
   "id": "65e78197",
   "metadata": {},
   "outputs": [
    {
     "data": {
      "text/html": [
       "<div>\n",
       "<style scoped>\n",
       "    .dataframe tbody tr th:only-of-type {\n",
       "        vertical-align: middle;\n",
       "    }\n",
       "\n",
       "    .dataframe tbody tr th {\n",
       "        vertical-align: top;\n",
       "    }\n",
       "\n",
       "    .dataframe thead th {\n",
       "        text-align: right;\n",
       "    }\n",
       "</style>\n",
       "<table border=\"1\" class=\"dataframe\">\n",
       "  <thead>\n",
       "    <tr style=\"text-align: right;\">\n",
       "      <th></th>\n",
       "      <th>Id</th>\n",
       "      <th>Gender</th>\n",
       "      <th>Age</th>\n",
       "      <th>Hypertension</th>\n",
       "      <th>Heart_disease</th>\n",
       "      <th>Ever_married</th>\n",
       "      <th>Work_type</th>\n",
       "      <th>Residence_type</th>\n",
       "      <th>Avg_glucose_level</th>\n",
       "      <th>Bmi</th>\n",
       "      <th>Smoking_status</th>\n",
       "      <th>Stroke</th>\n",
       "    </tr>\n",
       "  </thead>\n",
       "  <tbody>\n",
       "    <tr>\n",
       "      <th>0</th>\n",
       "      <td>9046</td>\n",
       "      <td>male</td>\n",
       "      <td>67.0</td>\n",
       "      <td>0</td>\n",
       "      <td>1</td>\n",
       "      <td>yes</td>\n",
       "      <td>private</td>\n",
       "      <td>urban</td>\n",
       "      <td>228.69</td>\n",
       "      <td>36.6</td>\n",
       "      <td>formerly_smoked</td>\n",
       "      <td>1</td>\n",
       "    </tr>\n",
       "    <tr>\n",
       "      <th>1</th>\n",
       "      <td>51676</td>\n",
       "      <td>female</td>\n",
       "      <td>61.0</td>\n",
       "      <td>0</td>\n",
       "      <td>0</td>\n",
       "      <td>yes</td>\n",
       "      <td>self_employed</td>\n",
       "      <td>rural</td>\n",
       "      <td>202.21</td>\n",
       "      <td>-1.0</td>\n",
       "      <td>never_smoked</td>\n",
       "      <td>1</td>\n",
       "    </tr>\n",
       "    <tr>\n",
       "      <th>2</th>\n",
       "      <td>31112</td>\n",
       "      <td>male</td>\n",
       "      <td>80.0</td>\n",
       "      <td>0</td>\n",
       "      <td>1</td>\n",
       "      <td>yes</td>\n",
       "      <td>private</td>\n",
       "      <td>rural</td>\n",
       "      <td>105.92</td>\n",
       "      <td>32.5</td>\n",
       "      <td>never_smoked</td>\n",
       "      <td>1</td>\n",
       "    </tr>\n",
       "    <tr>\n",
       "      <th>3</th>\n",
       "      <td>60182</td>\n",
       "      <td>female</td>\n",
       "      <td>49.0</td>\n",
       "      <td>0</td>\n",
       "      <td>0</td>\n",
       "      <td>yes</td>\n",
       "      <td>private</td>\n",
       "      <td>urban</td>\n",
       "      <td>171.23</td>\n",
       "      <td>34.4</td>\n",
       "      <td>smokes</td>\n",
       "      <td>1</td>\n",
       "    </tr>\n",
       "    <tr>\n",
       "      <th>4</th>\n",
       "      <td>1665</td>\n",
       "      <td>female</td>\n",
       "      <td>79.0</td>\n",
       "      <td>1</td>\n",
       "      <td>0</td>\n",
       "      <td>yes</td>\n",
       "      <td>self_employed</td>\n",
       "      <td>rural</td>\n",
       "      <td>174.12</td>\n",
       "      <td>24.0</td>\n",
       "      <td>never_smoked</td>\n",
       "      <td>1</td>\n",
       "    </tr>\n",
       "  </tbody>\n",
       "</table>\n",
       "</div>"
      ],
      "text/plain": [
       "      Id  Gender   Age  Hypertension  Heart_disease Ever_married  \\\n",
       "0   9046    male  67.0             0              1          yes   \n",
       "1  51676  female  61.0             0              0          yes   \n",
       "2  31112    male  80.0             0              1          yes   \n",
       "3  60182  female  49.0             0              0          yes   \n",
       "4   1665  female  79.0             1              0          yes   \n",
       "\n",
       "       Work_type Residence_type  Avg_glucose_level   Bmi   Smoking_status  \\\n",
       "0        private          urban             228.69  36.6  formerly_smoked   \n",
       "1  self_employed          rural             202.21  -1.0     never_smoked   \n",
       "2        private          rural             105.92  32.5     never_smoked   \n",
       "3        private          urban             171.23  34.4           smokes   \n",
       "4  self_employed          rural             174.12  24.0     never_smoked   \n",
       "\n",
       "   Stroke  \n",
       "0       1  \n",
       "1       1  \n",
       "2       1  \n",
       "3       1  \n",
       "4       1  "
      ]
     },
     "execution_count": 3,
     "metadata": {},
     "output_type": "execute_result"
    }
   ],
   "source": [
    "df.head()"
   ]
  },
  {
   "cell_type": "code",
   "execution_count": 4,
   "id": "c0cb6bca",
   "metadata": {},
   "outputs": [
    {
     "data": {
      "text/plain": [
       "(5110, 12)"
      ]
     },
     "execution_count": 4,
     "metadata": {},
     "output_type": "execute_result"
    }
   ],
   "source": [
    "df.shape"
   ]
  },
  {
   "cell_type": "code",
   "execution_count": 5,
   "id": "45a3f620",
   "metadata": {},
   "outputs": [],
   "source": [
    "TARGET_COL = [\"Stroke\"]\n",
    "ID_COL = [\"Id\"]\n",
    "TEXT_FEATURES = [\"\"]\n",
    "CAT_FEATURES = [col for col in df.columns if df[col].dtype == \"O\" if col not in TARGET_COL+ID_COL+TEXT_FEATURES]\n",
    "NUM_FEATURES = [col for col in df.columns if df[col].dtype != \"O\" if col not in TARGET_COL+ID_COL+TEXT_FEATURES]\n",
    "DROP_COLUMNS = [] # add columns which we want to drop at end "
   ]
  },
  {
   "cell_type": "code",
   "execution_count": 6,
   "id": "dd57b766",
   "metadata": {},
   "outputs": [],
   "source": [
    "TARGET_DATA = df[TARGET_COL].copy()\n",
    "ID_DATA = df[ID_COL].copy()"
   ]
  },
  {
   "cell_type": "code",
   "execution_count": 7,
   "id": "56609026",
   "metadata": {},
   "outputs": [
    {
     "name": "stdout",
     "output_type": "stream",
     "text": [
      "id column:  ['Id']\n",
      "target column:  ['Stroke']\n",
      "categorical columns:  ['Gender', 'Ever_married', 'Work_type', 'Residence_type', 'Smoking_status']\n",
      "numerical columns:  ['Age', 'Hypertension', 'Heart_disease', 'Avg_glucose_level', 'Bmi']\n",
      "text features:  ['']\n"
     ]
    }
   ],
   "source": [
    "print(\"id column: \", ID_COL)\n",
    "print(\"target column: \", TARGET_COL)\n",
    "print(\"categorical columns: \", CAT_FEATURES)\n",
    "print(\"numerical columns: \", NUM_FEATURES)\n",
    "print(\"text features: \", TEXT_FEATURES)"
   ]
  },
  {
   "cell_type": "markdown",
   "id": "0ee9ccbb",
   "metadata": {},
   "source": [
    "## Miscellaneous Functions"
   ]
  },
  {
   "cell_type": "code",
   "execution_count": 8,
   "id": "b8d6899d",
   "metadata": {},
   "outputs": [],
   "source": [
    "class DataEncoding:\n",
    "\n",
    "    def __init__(self, clean_df: pd.DataFrame):\n",
    "        self.original_df = clean_df.copy()\n",
    "        self.df = clean_df.copy() # here will perform our encodings & transformations\n",
    "        self.trans_tech = [\"Logarithmic\", \"Logarithmic_10\", \"Exponential\", \"Exponential_2\", \"Power\", \"Square\", \"Cubic\"]\n",
    "        self.scale_tech = [\"Normal_l1\", \"Normal_l2\", \"MaxAbcScaler\", \"Robust\", \"MinMax\", \"Standard\"]\n",
    "\n",
    "    # label encoding\n",
    "    def lable_encode(self, input_col:str, output_col:str):\n",
    "        \"\"\"\n",
    "        label encodes the passed column from dataframe\n",
    "        and adds encoded data to dataframe under new columns\n",
    "        name reffred to variable `output_col`.\n",
    "\n",
    "        Args:\n",
    "            input_col (str): column name that exists in dataframe.\n",
    "            output_col (str): column name for encoded data.\n",
    "\n",
    "        Returns:\n",
    "            None\n",
    "\n",
    "        Raises:\n",
    "            ValueError: If the input_col `string` is empty.\n",
    "            ValueError: If the output_col `string` is empty.\n",
    "\n",
    "        Example:\n",
    "            >>> \n",
    "        \"\"\"\n",
    "        label_encode = LabelEncoder()\n",
    "        label_encode.fit(self.df[input_col])\n",
    "        self.df[output_col] = label_encode.transform(self.df[input_col])\n",
    "        print(f\"Applied Label Encoded : {input_col} --> {output_col}\")\n",
    "\n",
    "    # ordinal encoding\n",
    "    def ordinal_encode(self, input_col:str, output_col:str, categories=List[str]) -> None:\n",
    "        \"\"\"\n",
    "        ordinally encodes the passed column using categories from dataframe\n",
    "        and adds encoded data to dataframe under new columns\n",
    "        name reffred to variable `output_col`.\n",
    "\n",
    "        Args:\n",
    "            input_col (str): column name that exists in dataframe.\n",
    "            output_col (str): column name for encoded data.\n",
    "            cotegories (list): list of all unique values from input col.\n",
    "\n",
    "        Returns:\n",
    "            None\n",
    "\n",
    "        Raises:\n",
    "            ValueError: If the input_col `string` is empty.\n",
    "            ValueError: If the output_col `string` is empty.\n",
    "\n",
    "        Example:\n",
    "            >>> \n",
    "        \"\"\"\n",
    "        if len(categories) > 0:\n",
    "            ordinal_encod = OrdinalEncoder(categories=[categories])\n",
    "        else:\n",
    "            ordinal_encod = OrdinalEncoder(categories=[self.df[input_col].unique().tolist()])\n",
    "        self.df[output_col] = ordinal_encod.fit_transform(self.df[[input_col]])\n",
    "        print(f\"Applied Ordinal Encoded : {input_col} --> {output_col}\")\n",
    "\n",
    "    # onehot encoding\n",
    "    def onehot_encode(self, input_col:str, output_col_initials:str) -> None:\n",
    "        \"\"\"\n",
    "        applies one hot encoding on passed `input_col`\n",
    "        an renames all onehot encoded columns with \n",
    "        initials with `output_col_initials`.\n",
    "\n",
    "        Args:\n",
    "            input_col (str): column name that exists in dataframe.\n",
    "            output_col_initials (str): column name for encoded data.\n",
    "\n",
    "        Returns:\n",
    "            None\n",
    "\n",
    "        Raises:\n",
    "            ValueError: If the input_col `string` is empty.\n",
    "            ValueError: If the output_col_initials `string` is empty.\n",
    "\n",
    "        Example:\n",
    "            >>> \n",
    "        \"\"\"\n",
    "        if len(output_col_initials) == 0:\n",
    "            output_col_initials = input_col\n",
    "        # initalized encoder\n",
    "        onehot_encode = OneHotEncoder()\n",
    "        # applying encoding\n",
    "        onehot_encoded = onehot_encode.fit_transform(self.df[[input_col]]).toarray()\n",
    "\n",
    "        # Create a DataFrame for the encoded data\n",
    "        df_encoded = pd.DataFrame(onehot_encoded, columns=onehot_encode.get_feature_names_out([output_col_initials]))\n",
    "\n",
    "        # Concatenate with original DataFrame\n",
    "        self.df = pd.concat([self.df, df_encoded], axis=1)\n",
    "        print(f\"OneHotEncoder Applied on : {input_col}\")\n",
    "\n",
    "    def map_custom_encoding(self, input_col:str, output_col:str, encoding:dict) -> None:\n",
    "        # Apply custom encoding using map\n",
    "        self.df[output_col] = self.df[input_col].map(encoding)\n",
    "        print(f\"Applied Custom Encoded : {input_col} --> {output_col}\")\n",
    "\n",
    "    def feature_tranformation(self, input_col:str, type_of_trans: str):\n",
    "        if type_of_trans == \"Logarithmic\":\n",
    "            self.df[input_col+\"_Log\"] = np.log(self.df[input_col])\n",
    "        elif type_of_trans == \"Logarithmic_10\": # base 10\n",
    "            self.df[input_col+\"_Log_10\"] = np.log10(self.df[input_col])\n",
    "        elif type_of_trans == \"Exponential\":\n",
    "            self.df[input_col+\"_Exp\"] = np.exp(self.df[input_col])\n",
    "        elif type_of_trans == \"Exponential_2\": # power 2\n",
    "            self.df[input_col+\"_Exp_2\"] = np.exp2(self.df[input_col])\n",
    "        elif type_of_trans == \"Power\": # removed boxcox\n",
    "            transformed_data, _ = yeojohnson(self.df[input_col])\n",
    "            self.df[input_col+\"_Power\"] = transformed_data\n",
    "        elif type_of_trans == \"Square\":\n",
    "            self.df[input_col+\"_Squr\"] = np.power(self.df[input_col], 2)\n",
    "        elif type_of_trans == \"Cubic\":\n",
    "            self.df[input_col+\"_Cube\"] = np.power(self.df[input_col], 3)\n",
    "        else:\n",
    "            print(f\"No transformation applied: {input_col}\")\n",
    "            # self.df[input_col] = self.df[input_col]\n",
    "\n",
    "    def feature_scaling(self, input_col:str, type_of_scale:str):\n",
    "        if type_of_scale == \"Normal_l1\":\n",
    "            scaler = Normalizer(norm='l1')\n",
    "            self.df[input_col+\"_Norm_l1\"] = scaler.fit_transform(np.array(self.df[input_col]).reshape(-1, 1))\n",
    "\n",
    "        elif type_of_scale == \"Normal_l2\":\n",
    "            scaler = Normalizer(norm='l2')\n",
    "            self.df[input_col+\"_Norm_l2\"] = scaler.fit_transform(np.array(self.df[input_col]).reshape(-1, 1))\n",
    "\n",
    "        elif type_of_scale == \"MaxAbcScaler\":\n",
    "            scaler = MaxAbsScaler()\n",
    "            self.df[input_col+\"_MaxAbs\"] = scaler.fit_transform(np.array(self.df[input_col]).reshape(-1, 1))\n",
    "\n",
    "        elif type_of_scale == \"Robust\":\n",
    "            scaler = RobustScaler()\n",
    "            self.df[input_col+\"_Robust\"] = scaler.fit_transform(np.array(self.df[input_col]).reshape(-1, 1))\n",
    "\n",
    "        elif type_of_scale == \"MinMax\":\n",
    "            scaler = MinMaxScaler()\n",
    "            self.df[input_col+\"_MinMax\"] = scaler.fit_transform(np.array(self.df[input_col]).reshape(-1, 1))\n",
    "\n",
    "        elif type_of_scale == \"Standard\":\n",
    "            scaler = StandardScaler()\n",
    "            self.df[input_col+\"_Standard\"] = scaler.fit_transform(np.array(self.df[input_col]).reshape(-1, 1))\n",
    "        print(f\"Applied: {type_of_scale} >>> {input_col}\")\n",
    "\n",
    "    def transform_with_all_technique(self, input_col:str):\n",
    "        for tech in self.trans_tech:\n",
    "            self.feature_tranformation(input_col, tech)\n",
    "            print(f\"Transformed {input_col} with : {tech}\")\n",
    "\n",
    "    def scaling_with_all_technique(self, input_col:str):\n",
    "        for tech in self.scale_tech:\n",
    "            self.feature_scaling(input_col, tech)\n",
    "            print(f\"Scaled {input_col} with : {tech}\")   \n",
    "\n",
    "    def test_all_combinations(self, feature: str, plan: dict = {'scale':[], 'transform':[]}):\n",
    "        \n",
    "        # step1 : scaling & transformation\n",
    "        if plan == ['scale', 'transform']:\n",
    "\n",
    "            # apply all scaling \n",
    "            for scaling_technique in plan['scale']:\n",
    "\n",
    "                self.feature_scaling(feature, scaling_technique)\n",
    "\n",
    "            # remove -inf , +inf, np.nan columns\n",
    "            \n",
    "            # apply all transformations\n",
    "\n",
    "            # remove -inf , +inf, np.nan columns\n",
    "\n",
    "            # plot each combinations plot row - > transformation & column -> scaling\n",
    "        else:\n",
    "            pass\n",
    "            # apply all transformations\n",
    "\n",
    "            # remove -inf , +inf, np.nan columns\n",
    "\n",
    "            # apply all scaling\n",
    "\n",
    "            # plot each combinations plot row - > transformation & column -> scaling\n",
    "\n",
    "    def plot_all_combinations(self, data: pd.DataFrame):\n",
    "        # Set up the matplotlib figure\n",
    "        fig, axes = plt.subplots(nrows=2, ncols=4, figsize=(10, 5))  # 6x7 grid\n",
    "\n",
    "        # Flatten the axes array for easy iteration\n",
    "        axes = axes.flatten()\n",
    "\n",
    "        # Loop through each feature and plot KDE\n",
    "        for i, ax in enumerate(axes):\n",
    "            if i < data.shape[1]:  # Ensure we only plot existing features\n",
    "                sns.kdeplot(data.iloc[:, i], ax=ax, fill=True)\n",
    "                ax.set_title(data.columns[i])  # Set the title to the column name\n",
    "            else:\n",
    "                ax.axis('off')  # Turn off unused subplots\n",
    "\n",
    "        # Adjust layout\n",
    "        plt.tight_layout()\n",
    "        plt.show()            \n",
    "        "
   ]
  },
  {
   "cell_type": "markdown",
   "id": "54aaddce",
   "metadata": {},
   "source": [
    "## Handeling Categorical Feature"
   ]
  },
  {
   "cell_type": "code",
   "execution_count": 9,
   "id": "626c7cc5",
   "metadata": {},
   "outputs": [],
   "source": [
    "encode_obj = DataEncoding(df[CAT_FEATURES])"
   ]
  },
  {
   "cell_type": "code",
   "execution_count": 10,
   "id": "41f60ef6",
   "metadata": {},
   "outputs": [
    {
     "data": {
      "text/html": [
       "<div>\n",
       "<style scoped>\n",
       "    .dataframe tbody tr th:only-of-type {\n",
       "        vertical-align: middle;\n",
       "    }\n",
       "\n",
       "    .dataframe tbody tr th {\n",
       "        vertical-align: top;\n",
       "    }\n",
       "\n",
       "    .dataframe thead th {\n",
       "        text-align: right;\n",
       "    }\n",
       "</style>\n",
       "<table border=\"1\" class=\"dataframe\">\n",
       "  <thead>\n",
       "    <tr style=\"text-align: right;\">\n",
       "      <th></th>\n",
       "      <th>Gender</th>\n",
       "      <th>Ever_married</th>\n",
       "      <th>Work_type</th>\n",
       "      <th>Residence_type</th>\n",
       "      <th>Smoking_status</th>\n",
       "    </tr>\n",
       "  </thead>\n",
       "  <tbody>\n",
       "    <tr>\n",
       "      <th>0</th>\n",
       "      <td>male</td>\n",
       "      <td>yes</td>\n",
       "      <td>private</td>\n",
       "      <td>urban</td>\n",
       "      <td>formerly_smoked</td>\n",
       "    </tr>\n",
       "    <tr>\n",
       "      <th>1</th>\n",
       "      <td>female</td>\n",
       "      <td>yes</td>\n",
       "      <td>self_employed</td>\n",
       "      <td>rural</td>\n",
       "      <td>never_smoked</td>\n",
       "    </tr>\n",
       "    <tr>\n",
       "      <th>2</th>\n",
       "      <td>male</td>\n",
       "      <td>yes</td>\n",
       "      <td>private</td>\n",
       "      <td>rural</td>\n",
       "      <td>never_smoked</td>\n",
       "    </tr>\n",
       "    <tr>\n",
       "      <th>3</th>\n",
       "      <td>female</td>\n",
       "      <td>yes</td>\n",
       "      <td>private</td>\n",
       "      <td>urban</td>\n",
       "      <td>smokes</td>\n",
       "    </tr>\n",
       "    <tr>\n",
       "      <th>4</th>\n",
       "      <td>female</td>\n",
       "      <td>yes</td>\n",
       "      <td>self_employed</td>\n",
       "      <td>rural</td>\n",
       "      <td>never_smoked</td>\n",
       "    </tr>\n",
       "  </tbody>\n",
       "</table>\n",
       "</div>"
      ],
      "text/plain": [
       "   Gender Ever_married      Work_type Residence_type   Smoking_status\n",
       "0    male          yes        private          urban  formerly_smoked\n",
       "1  female          yes  self_employed          rural     never_smoked\n",
       "2    male          yes        private          rural     never_smoked\n",
       "3  female          yes        private          urban           smokes\n",
       "4  female          yes  self_employed          rural     never_smoked"
      ]
     },
     "execution_count": 10,
     "metadata": {},
     "output_type": "execute_result"
    }
   ],
   "source": [
    "encode_obj.df.head()"
   ]
  },
  {
   "cell_type": "code",
   "execution_count": 11,
   "id": "f9414841",
   "metadata": {},
   "outputs": [
    {
     "data": {
      "text/plain": [
       "['Gender', 'Ever_married', 'Work_type', 'Residence_type', 'Smoking_status']"
      ]
     },
     "execution_count": 11,
     "metadata": {},
     "output_type": "execute_result"
    }
   ],
   "source": [
    "CAT_FEATURES"
   ]
  },
  {
   "cell_type": "markdown",
   "id": "b9ea362d",
   "metadata": {},
   "source": [
    "### **Gender**"
   ]
  },
  {
   "cell_type": "code",
   "execution_count": 12,
   "id": "5eecaa47",
   "metadata": {},
   "outputs": [
    {
     "name": "stdout",
     "output_type": "stream",
     "text": [
      "Applied Label Encoded : Gender --> Gender_encode\n"
     ]
    }
   ],
   "source": [
    "encode_obj.lable_encode(\"Gender\", \"Gender_encode\")"
   ]
  },
  {
   "cell_type": "markdown",
   "id": "03be3ae6",
   "metadata": {},
   "source": [
    "### **Ever_married**"
   ]
  },
  {
   "cell_type": "code",
   "execution_count": 13,
   "id": "7bd86718",
   "metadata": {},
   "outputs": [
    {
     "name": "stdout",
     "output_type": "stream",
     "text": [
      "Applied Label Encoded : Ever_married --> Ever_married_encode\n"
     ]
    }
   ],
   "source": [
    "encode_obj.lable_encode(\"Ever_married\", \"Ever_married_encode\")"
   ]
  },
  {
   "cell_type": "markdown",
   "id": "756379ad",
   "metadata": {},
   "source": [
    "### **Work_type**"
   ]
  },
  {
   "cell_type": "code",
   "execution_count": 14,
   "id": "ee3bc1df",
   "metadata": {},
   "outputs": [
    {
     "name": "stdout",
     "output_type": "stream",
     "text": [
      "Applied Label Encoded : Work_type --> Work_type_encode\n"
     ]
    }
   ],
   "source": [
    "encode_obj.lable_encode(\"Work_type\", \"Work_type_encode\")"
   ]
  },
  {
   "cell_type": "code",
   "execution_count": 15,
   "id": "be792243",
   "metadata": {},
   "outputs": [
    {
     "name": "stdout",
     "output_type": "stream",
     "text": [
      "OneHotEncoder Applied on : Work_type\n"
     ]
    }
   ],
   "source": [
    "encode_obj.onehot_encode(\"Work_type\", \"Work_type\")"
   ]
  },
  {
   "cell_type": "markdown",
   "id": "a3e40c9b",
   "metadata": {},
   "source": [
    "### **Residence_type**"
   ]
  },
  {
   "cell_type": "code",
   "execution_count": 16,
   "id": "b0264f1d",
   "metadata": {},
   "outputs": [
    {
     "name": "stdout",
     "output_type": "stream",
     "text": [
      "Applied Label Encoded : Residence_type --> Residence_type_encode\n"
     ]
    }
   ],
   "source": [
    "encode_obj.lable_encode(\"Residence_type\", \"Residence_type_encode\")"
   ]
  },
  {
   "cell_type": "markdown",
   "id": "ca7e4fe5",
   "metadata": {},
   "source": [
    "### **Smoking_status**"
   ]
  },
  {
   "cell_type": "code",
   "execution_count": 17,
   "id": "d1e432be",
   "metadata": {},
   "outputs": [
    {
     "name": "stdout",
     "output_type": "stream",
     "text": [
      "Applied Label Encoded : Smoking_status --> Smoking_status_encode\n"
     ]
    }
   ],
   "source": [
    "encode_obj.lable_encode(\"Smoking_status\", \"Smoking_status_encode\")"
   ]
  },
  {
   "cell_type": "code",
   "execution_count": 18,
   "id": "f1b31a60",
   "metadata": {},
   "outputs": [
    {
     "name": "stdout",
     "output_type": "stream",
     "text": [
      "OneHotEncoder Applied on : Smoking_status\n"
     ]
    }
   ],
   "source": [
    "encode_obj.onehot_encode(\"Smoking_status\", \"Smoking_status\")"
   ]
  },
  {
   "cell_type": "code",
   "execution_count": 19,
   "id": "de412991",
   "metadata": {},
   "outputs": [
    {
     "data": {
      "text/html": [
       "<div>\n",
       "<style scoped>\n",
       "    .dataframe tbody tr th:only-of-type {\n",
       "        vertical-align: middle;\n",
       "    }\n",
       "\n",
       "    .dataframe tbody tr th {\n",
       "        vertical-align: top;\n",
       "    }\n",
       "\n",
       "    .dataframe thead th {\n",
       "        text-align: right;\n",
       "    }\n",
       "</style>\n",
       "<table border=\"1\" class=\"dataframe\">\n",
       "  <thead>\n",
       "    <tr style=\"text-align: right;\">\n",
       "      <th></th>\n",
       "      <th>Gender</th>\n",
       "      <th>Ever_married</th>\n",
       "      <th>Work_type</th>\n",
       "      <th>Residence_type</th>\n",
       "      <th>Smoking_status</th>\n",
       "      <th>Gender_encode</th>\n",
       "      <th>Ever_married_encode</th>\n",
       "      <th>Work_type_encode</th>\n",
       "      <th>Work_type_children</th>\n",
       "      <th>Work_type_govt_job</th>\n",
       "      <th>Work_type_never_worked</th>\n",
       "      <th>Work_type_private</th>\n",
       "      <th>Work_type_self_employed</th>\n",
       "      <th>Residence_type_encode</th>\n",
       "      <th>Smoking_status_encode</th>\n",
       "      <th>Smoking_status_formerly_smoked</th>\n",
       "      <th>Smoking_status_never_smoked</th>\n",
       "      <th>Smoking_status_smokes</th>\n",
       "      <th>Smoking_status_unknown</th>\n",
       "    </tr>\n",
       "  </thead>\n",
       "  <tbody>\n",
       "    <tr>\n",
       "      <th>0</th>\n",
       "      <td>male</td>\n",
       "      <td>yes</td>\n",
       "      <td>private</td>\n",
       "      <td>urban</td>\n",
       "      <td>formerly_smoked</td>\n",
       "      <td>1</td>\n",
       "      <td>1</td>\n",
       "      <td>3</td>\n",
       "      <td>0.0</td>\n",
       "      <td>0.0</td>\n",
       "      <td>0.0</td>\n",
       "      <td>1.0</td>\n",
       "      <td>0.0</td>\n",
       "      <td>1</td>\n",
       "      <td>0</td>\n",
       "      <td>1.0</td>\n",
       "      <td>0.0</td>\n",
       "      <td>0.0</td>\n",
       "      <td>0.0</td>\n",
       "    </tr>\n",
       "    <tr>\n",
       "      <th>1</th>\n",
       "      <td>female</td>\n",
       "      <td>yes</td>\n",
       "      <td>self_employed</td>\n",
       "      <td>rural</td>\n",
       "      <td>never_smoked</td>\n",
       "      <td>0</td>\n",
       "      <td>1</td>\n",
       "      <td>4</td>\n",
       "      <td>0.0</td>\n",
       "      <td>0.0</td>\n",
       "      <td>0.0</td>\n",
       "      <td>0.0</td>\n",
       "      <td>1.0</td>\n",
       "      <td>0</td>\n",
       "      <td>1</td>\n",
       "      <td>0.0</td>\n",
       "      <td>1.0</td>\n",
       "      <td>0.0</td>\n",
       "      <td>0.0</td>\n",
       "    </tr>\n",
       "    <tr>\n",
       "      <th>2</th>\n",
       "      <td>male</td>\n",
       "      <td>yes</td>\n",
       "      <td>private</td>\n",
       "      <td>rural</td>\n",
       "      <td>never_smoked</td>\n",
       "      <td>1</td>\n",
       "      <td>1</td>\n",
       "      <td>3</td>\n",
       "      <td>0.0</td>\n",
       "      <td>0.0</td>\n",
       "      <td>0.0</td>\n",
       "      <td>1.0</td>\n",
       "      <td>0.0</td>\n",
       "      <td>0</td>\n",
       "      <td>1</td>\n",
       "      <td>0.0</td>\n",
       "      <td>1.0</td>\n",
       "      <td>0.0</td>\n",
       "      <td>0.0</td>\n",
       "    </tr>\n",
       "    <tr>\n",
       "      <th>3</th>\n",
       "      <td>female</td>\n",
       "      <td>yes</td>\n",
       "      <td>private</td>\n",
       "      <td>urban</td>\n",
       "      <td>smokes</td>\n",
       "      <td>0</td>\n",
       "      <td>1</td>\n",
       "      <td>3</td>\n",
       "      <td>0.0</td>\n",
       "      <td>0.0</td>\n",
       "      <td>0.0</td>\n",
       "      <td>1.0</td>\n",
       "      <td>0.0</td>\n",
       "      <td>1</td>\n",
       "      <td>2</td>\n",
       "      <td>0.0</td>\n",
       "      <td>0.0</td>\n",
       "      <td>1.0</td>\n",
       "      <td>0.0</td>\n",
       "    </tr>\n",
       "    <tr>\n",
       "      <th>4</th>\n",
       "      <td>female</td>\n",
       "      <td>yes</td>\n",
       "      <td>self_employed</td>\n",
       "      <td>rural</td>\n",
       "      <td>never_smoked</td>\n",
       "      <td>0</td>\n",
       "      <td>1</td>\n",
       "      <td>4</td>\n",
       "      <td>0.0</td>\n",
       "      <td>0.0</td>\n",
       "      <td>0.0</td>\n",
       "      <td>0.0</td>\n",
       "      <td>1.0</td>\n",
       "      <td>0</td>\n",
       "      <td>1</td>\n",
       "      <td>0.0</td>\n",
       "      <td>1.0</td>\n",
       "      <td>0.0</td>\n",
       "      <td>0.0</td>\n",
       "    </tr>\n",
       "  </tbody>\n",
       "</table>\n",
       "</div>"
      ],
      "text/plain": [
       "   Gender Ever_married      Work_type Residence_type   Smoking_status  \\\n",
       "0    male          yes        private          urban  formerly_smoked   \n",
       "1  female          yes  self_employed          rural     never_smoked   \n",
       "2    male          yes        private          rural     never_smoked   \n",
       "3  female          yes        private          urban           smokes   \n",
       "4  female          yes  self_employed          rural     never_smoked   \n",
       "\n",
       "   Gender_encode  Ever_married_encode  Work_type_encode  Work_type_children  \\\n",
       "0              1                    1                 3                 0.0   \n",
       "1              0                    1                 4                 0.0   \n",
       "2              1                    1                 3                 0.0   \n",
       "3              0                    1                 3                 0.0   \n",
       "4              0                    1                 4                 0.0   \n",
       "\n",
       "   Work_type_govt_job  Work_type_never_worked  Work_type_private  \\\n",
       "0                 0.0                     0.0                1.0   \n",
       "1                 0.0                     0.0                0.0   \n",
       "2                 0.0                     0.0                1.0   \n",
       "3                 0.0                     0.0                1.0   \n",
       "4                 0.0                     0.0                0.0   \n",
       "\n",
       "   Work_type_self_employed  Residence_type_encode  Smoking_status_encode  \\\n",
       "0                      0.0                      1                      0   \n",
       "1                      1.0                      0                      1   \n",
       "2                      0.0                      0                      1   \n",
       "3                      0.0                      1                      2   \n",
       "4                      1.0                      0                      1   \n",
       "\n",
       "   Smoking_status_formerly_smoked  Smoking_status_never_smoked  \\\n",
       "0                             1.0                          0.0   \n",
       "1                             0.0                          1.0   \n",
       "2                             0.0                          1.0   \n",
       "3                             0.0                          0.0   \n",
       "4                             0.0                          1.0   \n",
       "\n",
       "   Smoking_status_smokes  Smoking_status_unknown  \n",
       "0                    0.0                     0.0  \n",
       "1                    0.0                     0.0  \n",
       "2                    0.0                     0.0  \n",
       "3                    1.0                     0.0  \n",
       "4                    0.0                     0.0  "
      ]
     },
     "execution_count": 19,
     "metadata": {},
     "output_type": "execute_result"
    }
   ],
   "source": [
    "encode_obj.df.head()"
   ]
  },
  {
   "cell_type": "markdown",
   "id": "df3943f8",
   "metadata": {},
   "source": [
    "### Drop Unwanted Columns"
   ]
  },
  {
   "cell_type": "code",
   "execution_count": 20,
   "id": "10f4f843",
   "metadata": {},
   "outputs": [],
   "source": [
    "DROP_COLUMNS = ['Gender', 'Ever_married','Work_type', 'Residence_type', 'Smoking_status']\n",
    "encode_obj.df.drop(DROP_COLUMNS, axis=1, inplace=True)"
   ]
  },
  {
   "cell_type": "code",
   "execution_count": 21,
   "id": "4684b8ac",
   "metadata": {},
   "outputs": [
    {
     "data": {
      "text/html": [
       "<div>\n",
       "<style scoped>\n",
       "    .dataframe tbody tr th:only-of-type {\n",
       "        vertical-align: middle;\n",
       "    }\n",
       "\n",
       "    .dataframe tbody tr th {\n",
       "        vertical-align: top;\n",
       "    }\n",
       "\n",
       "    .dataframe thead th {\n",
       "        text-align: right;\n",
       "    }\n",
       "</style>\n",
       "<table border=\"1\" class=\"dataframe\">\n",
       "  <thead>\n",
       "    <tr style=\"text-align: right;\">\n",
       "      <th></th>\n",
       "      <th>Gender_encode</th>\n",
       "      <th>Ever_married_encode</th>\n",
       "      <th>Work_type_encode</th>\n",
       "      <th>Work_type_children</th>\n",
       "      <th>Work_type_govt_job</th>\n",
       "      <th>Work_type_never_worked</th>\n",
       "      <th>Work_type_private</th>\n",
       "      <th>Work_type_self_employed</th>\n",
       "      <th>Residence_type_encode</th>\n",
       "      <th>Smoking_status_encode</th>\n",
       "      <th>Smoking_status_formerly_smoked</th>\n",
       "      <th>Smoking_status_never_smoked</th>\n",
       "      <th>Smoking_status_smokes</th>\n",
       "      <th>Smoking_status_unknown</th>\n",
       "    </tr>\n",
       "  </thead>\n",
       "  <tbody>\n",
       "    <tr>\n",
       "      <th>0</th>\n",
       "      <td>1</td>\n",
       "      <td>1</td>\n",
       "      <td>3</td>\n",
       "      <td>0.0</td>\n",
       "      <td>0.0</td>\n",
       "      <td>0.0</td>\n",
       "      <td>1.0</td>\n",
       "      <td>0.0</td>\n",
       "      <td>1</td>\n",
       "      <td>0</td>\n",
       "      <td>1.0</td>\n",
       "      <td>0.0</td>\n",
       "      <td>0.0</td>\n",
       "      <td>0.0</td>\n",
       "    </tr>\n",
       "    <tr>\n",
       "      <th>1</th>\n",
       "      <td>0</td>\n",
       "      <td>1</td>\n",
       "      <td>4</td>\n",
       "      <td>0.0</td>\n",
       "      <td>0.0</td>\n",
       "      <td>0.0</td>\n",
       "      <td>0.0</td>\n",
       "      <td>1.0</td>\n",
       "      <td>0</td>\n",
       "      <td>1</td>\n",
       "      <td>0.0</td>\n",
       "      <td>1.0</td>\n",
       "      <td>0.0</td>\n",
       "      <td>0.0</td>\n",
       "    </tr>\n",
       "    <tr>\n",
       "      <th>2</th>\n",
       "      <td>1</td>\n",
       "      <td>1</td>\n",
       "      <td>3</td>\n",
       "      <td>0.0</td>\n",
       "      <td>0.0</td>\n",
       "      <td>0.0</td>\n",
       "      <td>1.0</td>\n",
       "      <td>0.0</td>\n",
       "      <td>0</td>\n",
       "      <td>1</td>\n",
       "      <td>0.0</td>\n",
       "      <td>1.0</td>\n",
       "      <td>0.0</td>\n",
       "      <td>0.0</td>\n",
       "    </tr>\n",
       "    <tr>\n",
       "      <th>3</th>\n",
       "      <td>0</td>\n",
       "      <td>1</td>\n",
       "      <td>3</td>\n",
       "      <td>0.0</td>\n",
       "      <td>0.0</td>\n",
       "      <td>0.0</td>\n",
       "      <td>1.0</td>\n",
       "      <td>0.0</td>\n",
       "      <td>1</td>\n",
       "      <td>2</td>\n",
       "      <td>0.0</td>\n",
       "      <td>0.0</td>\n",
       "      <td>1.0</td>\n",
       "      <td>0.0</td>\n",
       "    </tr>\n",
       "    <tr>\n",
       "      <th>4</th>\n",
       "      <td>0</td>\n",
       "      <td>1</td>\n",
       "      <td>4</td>\n",
       "      <td>0.0</td>\n",
       "      <td>0.0</td>\n",
       "      <td>0.0</td>\n",
       "      <td>0.0</td>\n",
       "      <td>1.0</td>\n",
       "      <td>0</td>\n",
       "      <td>1</td>\n",
       "      <td>0.0</td>\n",
       "      <td>1.0</td>\n",
       "      <td>0.0</td>\n",
       "      <td>0.0</td>\n",
       "    </tr>\n",
       "  </tbody>\n",
       "</table>\n",
       "</div>"
      ],
      "text/plain": [
       "   Gender_encode  Ever_married_encode  Work_type_encode  Work_type_children  \\\n",
       "0              1                    1                 3                 0.0   \n",
       "1              0                    1                 4                 0.0   \n",
       "2              1                    1                 3                 0.0   \n",
       "3              0                    1                 3                 0.0   \n",
       "4              0                    1                 4                 0.0   \n",
       "\n",
       "   Work_type_govt_job  Work_type_never_worked  Work_type_private  \\\n",
       "0                 0.0                     0.0                1.0   \n",
       "1                 0.0                     0.0                0.0   \n",
       "2                 0.0                     0.0                1.0   \n",
       "3                 0.0                     0.0                1.0   \n",
       "4                 0.0                     0.0                0.0   \n",
       "\n",
       "   Work_type_self_employed  Residence_type_encode  Smoking_status_encode  \\\n",
       "0                      0.0                      1                      0   \n",
       "1                      1.0                      0                      1   \n",
       "2                      0.0                      0                      1   \n",
       "3                      0.0                      1                      2   \n",
       "4                      1.0                      0                      1   \n",
       "\n",
       "   Smoking_status_formerly_smoked  Smoking_status_never_smoked  \\\n",
       "0                             1.0                          0.0   \n",
       "1                             0.0                          1.0   \n",
       "2                             0.0                          1.0   \n",
       "3                             0.0                          0.0   \n",
       "4                             0.0                          1.0   \n",
       "\n",
       "   Smoking_status_smokes  Smoking_status_unknown  \n",
       "0                    0.0                     0.0  \n",
       "1                    0.0                     0.0  \n",
       "2                    0.0                     0.0  \n",
       "3                    1.0                     0.0  \n",
       "4                    0.0                     0.0  "
      ]
     },
     "execution_count": 21,
     "metadata": {},
     "output_type": "execute_result"
    }
   ],
   "source": [
    "encode_obj.df.head()"
   ]
  },
  {
   "cell_type": "markdown",
   "id": "747ca833",
   "metadata": {},
   "source": [
    "## Handeling Numerical Feature"
   ]
  },
  {
   "cell_type": "code",
   "execution_count": 22,
   "id": "3dfe05ef",
   "metadata": {},
   "outputs": [],
   "source": [
    "def comparision_plot(df:pd.DataFrame, input_col:str, compare_col:str) -> None:\n",
    "    sns.kdeplot(data=df, x=input_col, alpha=0.5,  fill=True, linewidth=0, label=input_col, common_norm=True)\n",
    "    sns.kdeplot(data=df, x=compare_col, alpha=0.5,  fill=True, linewidth=0, label=compare_col, common_norm=True)\n",
    "    plt.legend()\n",
    "    plt.show()"
   ]
  },
  {
   "cell_type": "code",
   "execution_count": 23,
   "id": "45b5bffa",
   "metadata": {},
   "outputs": [
    {
     "data": {
      "text/plain": [
       "['Age', 'Hypertension', 'Heart_disease', 'Avg_glucose_level', 'Bmi']"
      ]
     },
     "execution_count": 23,
     "metadata": {},
     "output_type": "execute_result"
    }
   ],
   "source": [
    "NUM_FEATURES"
   ]
  },
  {
   "cell_type": "markdown",
   "id": "b43a69bd",
   "metadata": {},
   "source": [
    "### **Age**"
   ]
  },
  {
   "cell_type": "code",
   "execution_count": 24,
   "id": "9b3dbf70",
   "metadata": {},
   "outputs": [
    {
     "name": "stdout",
     "output_type": "stream",
     "text": [
      "Transformed Age with : Logarithmic\n",
      "Transformed Age with : Logarithmic_10\n",
      "Transformed Age with : Exponential\n",
      "Transformed Age with : Exponential_2\n",
      "Transformed Age with : Power\n",
      "Transformed Age with : Square\n",
      "Transformed Age with : Cubic\n"
     ]
    },
    {
     "data": {
      "image/png": "[encoded data removed]",
      "text/plain": [
       "<Figure size 1000x500 with 8 Axes>"
      ]
     },
     "metadata": {},
     "output_type": "display_data"
    }
   ],
   "source": [
    "# loading data in encoding object\n",
    "trans_age = DataEncoding(df[[\"Age\"]])\n",
    "\n",
    "# performing all scaline\n",
    "trans_age.transform_with_all_technique(\"Age\")\n",
    "\n",
    "trans_age.plot_all_combinations(trans_age.df)"
   ]
  },
  {
   "cell_type": "code",
   "execution_count": 25,
   "id": "2717343a",
   "metadata": {},
   "outputs": [
    {
     "data": {
      "text/plain": [
       "Index(['Age', 'Age_Log', 'Age_Log_10', 'Age_Exp', 'Age_Exp_2', 'Age_Power',\n",
       "       'Age_Squr', 'Age_Cube'],\n",
       "      dtype='object')"
      ]
     },
     "execution_count": 25,
     "metadata": {},
     "output_type": "execute_result"
    }
   ],
   "source": [
    "trans_age.df.columns"
   ]
  },
  {
   "cell_type": "code",
   "execution_count": 26,
   "id": "d4ffcf7c",
   "metadata": {},
   "outputs": [],
   "source": [
    "# fig = ff.create_distplot(data, columns, bin_size=.25, show_hist=False)\n",
    "# fig.show()"
   ]
  },
  {
   "cell_type": "markdown",
   "id": "443f4259",
   "metadata": {},
   "source": [
    "#### Drop Unwanted Columns"
   ]
  },
  {
   "cell_type": "code",
   "execution_count": 27,
   "id": "3f32b0bf",
   "metadata": {},
   "outputs": [],
   "source": [
    "DROP_COLUMNS = ['Age_Log', 'Age_Log_10', 'Age_Exp', 'Age_Exp_2', 'Age_Squr', 'Age_Cube']"
   ]
  },
  {
   "cell_type": "code",
   "execution_count": 28,
   "id": "8106b570",
   "metadata": {},
   "outputs": [],
   "source": [
    "trans_age.df.drop(DROP_COLUMNS, axis=1, inplace=True)"
   ]
  },
  {
   "cell_type": "markdown",
   "id": "0d7bac65",
   "metadata": {},
   "source": [
    "### **Avg_glucose_level**"
   ]
  },
  {
   "cell_type": "code",
   "execution_count": 29,
   "id": "2011b7d6",
   "metadata": {},
   "outputs": [
    {
     "name": "stdout",
     "output_type": "stream",
     "text": [
      "Transformed Avg_glucose_level with : Logarithmic\n",
      "Transformed Avg_glucose_level with : Logarithmic_10\n",
      "Transformed Avg_glucose_level with : Exponential\n",
      "Transformed Avg_glucose_level with : Exponential_2\n",
      "Transformed Avg_glucose_level with : Power\n",
      "Transformed Avg_glucose_level with : Square\n",
      "Transformed Avg_glucose_level with : Cubic\n"
     ]
    },
    {
     "data": {
      "image/png": "[encoded data removed]",
      "text/plain": [
       "<Figure size 1000x500 with 8 Axes>"
      ]
     },
     "metadata": {},
     "output_type": "display_data"
    }
   ],
   "source": [
    "# loading data in encoding object\n",
    "trans_avg_gl = DataEncoding(df[[\"Avg_glucose_level\"]])\n",
    "\n",
    "# performing all scaline\n",
    "trans_avg_gl.transform_with_all_technique(\"Avg_glucose_level\")\n",
    "\n",
    "trans_avg_gl.plot_all_combinations(trans_avg_gl.df)"
   ]
  },
  {
   "cell_type": "code",
   "execution_count": 30,
   "id": "344afeee",
   "metadata": {},
   "outputs": [
    {
     "data": {
      "text/plain": [
       "Index(['Avg_glucose_level', 'Avg_glucose_level_Log',\n",
       "       'Avg_glucose_level_Log_10', 'Avg_glucose_level_Exp',\n",
       "       'Avg_glucose_level_Exp_2', 'Avg_glucose_level_Power',\n",
       "       'Avg_glucose_level_Squr', 'Avg_glucose_level_Cube'],\n",
       "      dtype='object')"
      ]
     },
     "execution_count": 30,
     "metadata": {},
     "output_type": "execute_result"
    }
   ],
   "source": [
    "trans_avg_gl.df.columns"
   ]
  },
  {
   "cell_type": "markdown",
   "id": "be51836c",
   "metadata": {},
   "source": [
    "#### Drop Unwanted Columns"
   ]
  },
  {
   "cell_type": "code",
   "execution_count": 31,
   "id": "f84cf12f",
   "metadata": {},
   "outputs": [],
   "source": [
    "DROP_COLUMNS = ['Avg_glucose_level', 'Avg_glucose_level_Log', 'Avg_glucose_level_Log_10', 'Avg_glucose_level_Exp',\n",
    "                                'Avg_glucose_level_Exp_2', 'Avg_glucose_level_Squr', 'Avg_glucose_level_Cube']"
   ]
  },
  {
   "cell_type": "code",
   "execution_count": 32,
   "id": "da2daf3e",
   "metadata": {},
   "outputs": [],
   "source": [
    "trans_avg_gl.df.drop(DROP_COLUMNS, axis=1, inplace=True)"
   ]
  },
  {
   "cell_type": "markdown",
   "id": "aee21821",
   "metadata": {},
   "source": [
    "### **Bmi**"
   ]
  },
  {
   "cell_type": "markdown",
   "id": "4375e5fd",
   "metadata": {},
   "source": [
    "- transformation only work after handling missing values"
   ]
  },
  {
   "cell_type": "code",
   "execution_count": 33,
   "id": "819712fd",
   "metadata": {},
   "outputs": [
    {
     "name": "stdout",
     "output_type": "stream",
     "text": [
      "Transformed Bmi with : Logarithmic\n",
      "Transformed Bmi with : Logarithmic_10\n",
      "Transformed Bmi with : Exponential\n",
      "Transformed Bmi with : Exponential_2\n",
      "Transformed Bmi with : Power\n",
      "Transformed Bmi with : Square\n",
      "Transformed Bmi with : Cubic\n"
     ]
    },
    {
     "data": {
      "image/png": "[encoded data removed]",
      "text/plain": [
       "<Figure size 1000x500 with 8 Axes>"
      ]
     },
     "metadata": {},
     "output_type": "display_data"
    }
   ],
   "source": [
    "# loading data in encoding object\n",
    "trans_bmi = DataEncoding(df[[\"Bmi\"]])\n",
    "\n",
    "# performing all scaline\n",
    "trans_bmi.transform_with_all_technique(\"Bmi\")\n",
    "\n",
    "trans_bmi.plot_all_combinations(trans_bmi.df)"
   ]
  },
  {
   "cell_type": "code",
   "execution_count": 34,
   "id": "50d482f4",
   "metadata": {},
   "outputs": [],
   "source": [
    "# trans_bmi.df.columns"
   ]
  },
  {
   "cell_type": "markdown",
   "id": "0db2d0eb",
   "metadata": {},
   "source": [
    "#### Drop Unwanted Columns"
   ]
  },
  {
   "cell_type": "code",
   "execution_count": 35,
   "id": "4851e690",
   "metadata": {},
   "outputs": [],
   "source": [
    "# DROP_COLUMNS = ['Bmi', 'Bmi_Exp', 'Bmi_Exp_2', 'Bmi_Power', 'Bmi_Squr', 'Bmi_Cube']"
   ]
  },
  {
   "cell_type": "code",
   "execution_count": 36,
   "id": "73a22905",
   "metadata": {},
   "outputs": [],
   "source": [
    "# trans_bmi.df.drop(DROP_COLUMNS, axis=1, inplace=True)"
   ]
  },
  {
   "cell_type": "markdown",
   "id": "8fbbc68a",
   "metadata": {},
   "source": [
    "## Handeling Date Feature"
   ]
  },
  {
   "cell_type": "code",
   "execution_count": 37,
   "id": "8f86ccce",
   "metadata": {},
   "outputs": [],
   "source": [
    "# don't have date related columns"
   ]
  },
  {
   "cell_type": "code",
   "execution_count": 38,
   "id": "af88d340",
   "metadata": {},
   "outputs": [],
   "source": [
    "# DROP_COLUMNS = DROP_COLUMNS + []"
   ]
  },
  {
   "cell_type": "markdown",
   "id": "c2687f69",
   "metadata": {},
   "source": [
    "## Handeling Text Feature"
   ]
  },
  {
   "cell_type": "code",
   "execution_count": 39,
   "id": "5bdf1d00",
   "metadata": {},
   "outputs": [],
   "source": [
    "# don't have text related columns"
   ]
  },
  {
   "cell_type": "code",
   "execution_count": 40,
   "id": "1ad3eaf6",
   "metadata": {},
   "outputs": [],
   "source": [
    "# DROP_COLUMNS = DROP_COLUMNS + []"
   ]
  },
  {
   "cell_type": "markdown",
   "id": "06a1024e",
   "metadata": {},
   "source": [
    "## Merge & Drop Unwanted Columns"
   ]
  },
  {
   "cell_type": "code",
   "execution_count": 41,
   "id": "e0dffeac",
   "metadata": {},
   "outputs": [],
   "source": [
    "DF_LEVEL_1 = pd.concat(\n",
    "    [\n",
    "        ID_DATA,\n",
    "        trans_age.df,\n",
    "        trans_avg_gl.df,\n",
    "        trans_bmi.df,\n",
    "        encode_obj.df,\n",
    "        TARGET_DATA,\n",
    "    ],\n",
    "    axis=1\n",
    ")"
   ]
  },
  {
   "cell_type": "code",
   "execution_count": 42,
   "id": "e6a2a119",
   "metadata": {},
   "outputs": [
    {
     "data": {
      "text/html": [
       "<div>\n",
       "<style scoped>\n",
       "    .dataframe tbody tr th:only-of-type {\n",
       "        vertical-align: middle;\n",
       "    }\n",
       "\n",
       "    .dataframe tbody tr th {\n",
       "        vertical-align: top;\n",
       "    }\n",
       "\n",
       "    .dataframe thead th {\n",
       "        text-align: right;\n",
       "    }\n",
       "</style>\n",
       "<table border=\"1\" class=\"dataframe\">\n",
       "  <thead>\n",
       "    <tr style=\"text-align: right;\">\n",
       "      <th></th>\n",
       "      <th>Id</th>\n",
       "      <th>Age</th>\n",
       "      <th>Age_Power</th>\n",
       "      <th>Avg_glucose_level_Power</th>\n",
       "      <th>Bmi</th>\n",
       "      <th>Bmi_Log</th>\n",
       "      <th>Bmi_Log_10</th>\n",
       "      <th>Bmi_Exp</th>\n",
       "      <th>Bmi_Exp_2</th>\n",
       "      <th>Bmi_Power</th>\n",
       "      <th>...</th>\n",
       "      <th>Work_type_never_worked</th>\n",
       "      <th>Work_type_private</th>\n",
       "      <th>Work_type_self_employed</th>\n",
       "      <th>Residence_type_encode</th>\n",
       "      <th>Smoking_status_encode</th>\n",
       "      <th>Smoking_status_formerly_smoked</th>\n",
       "      <th>Smoking_status_never_smoked</th>\n",
       "      <th>Smoking_status_smokes</th>\n",
       "      <th>Smoking_status_unknown</th>\n",
       "      <th>Stroke</th>\n",
       "    </tr>\n",
       "  </thead>\n",
       "  <tbody>\n",
       "    <tr>\n",
       "      <th>0</th>\n",
       "      <td>9046</td>\n",
       "      <td>67.0</td>\n",
       "      <td>42.663301</td>\n",
       "      <td>0.926756</td>\n",
       "      <td>36.6</td>\n",
       "      <td>3.600048</td>\n",
       "      <td>1.563481</td>\n",
       "      <td>7.855576e+15</td>\n",
       "      <td>1.041592e+11</td>\n",
       "      <td>50.730499</td>\n",
       "      <td>...</td>\n",
       "      <td>0.0</td>\n",
       "      <td>1.0</td>\n",
       "      <td>0.0</td>\n",
       "      <td>1</td>\n",
       "      <td>0</td>\n",
       "      <td>1.0</td>\n",
       "      <td>0.0</td>\n",
       "      <td>0.0</td>\n",
       "      <td>0.0</td>\n",
       "      <td>1</td>\n",
       "    </tr>\n",
       "    <tr>\n",
       "      <th>1</th>\n",
       "      <td>51676</td>\n",
       "      <td>61.0</td>\n",
       "      <td>39.315669</td>\n",
       "      <td>0.926379</td>\n",
       "      <td>-1.0</td>\n",
       "      <td>NaN</td>\n",
       "      <td>NaN</td>\n",
       "      <td>3.678794e-01</td>\n",
       "      <td>5.000000e-01</td>\n",
       "      <td>-0.955627</td>\n",
       "      <td>...</td>\n",
       "      <td>0.0</td>\n",
       "      <td>0.0</td>\n",
       "      <td>1.0</td>\n",
       "      <td>0</td>\n",
       "      <td>1</td>\n",
       "      <td>0.0</td>\n",
       "      <td>1.0</td>\n",
       "      <td>0.0</td>\n",
       "      <td>0.0</td>\n",
       "      <td>1</td>\n",
       "    </tr>\n",
       "    <tr>\n",
       "      <th>2</th>\n",
       "      <td>31112</td>\n",
       "      <td>80.0</td>\n",
       "      <td>49.780537</td>\n",
       "      <td>0.923337</td>\n",
       "      <td>32.5</td>\n",
       "      <td>3.481240</td>\n",
       "      <td>1.511883</td>\n",
       "      <td>1.301879e+14</td>\n",
       "      <td>6.074001e+09</td>\n",
       "      <td>44.477741</td>\n",
       "      <td>...</td>\n",
       "      <td>0.0</td>\n",
       "      <td>1.0</td>\n",
       "      <td>0.0</td>\n",
       "      <td>0</td>\n",
       "      <td>1</td>\n",
       "      <td>0.0</td>\n",
       "      <td>1.0</td>\n",
       "      <td>0.0</td>\n",
       "      <td>0.0</td>\n",
       "      <td>1</td>\n",
       "    </tr>\n",
       "    <tr>\n",
       "      <th>3</th>\n",
       "      <td>60182</td>\n",
       "      <td>49.0</td>\n",
       "      <td>32.477743</td>\n",
       "      <td>0.925784</td>\n",
       "      <td>34.4</td>\n",
       "      <td>3.538057</td>\n",
       "      <td>1.536558</td>\n",
       "      <td>8.704226e+14</td>\n",
       "      <td>2.266897e+10</td>\n",
       "      <td>47.364744</td>\n",
       "      <td>...</td>\n",
       "      <td>0.0</td>\n",
       "      <td>1.0</td>\n",
       "      <td>0.0</td>\n",
       "      <td>1</td>\n",
       "      <td>2</td>\n",
       "      <td>0.0</td>\n",
       "      <td>0.0</td>\n",
       "      <td>1.0</td>\n",
       "      <td>0.0</td>\n",
       "      <td>1</td>\n",
       "    </tr>\n",
       "    <tr>\n",
       "      <th>4</th>\n",
       "      <td>1665</td>\n",
       "      <td>79.0</td>\n",
       "      <td>49.239063</td>\n",
       "      <td>0.925848</td>\n",
       "      <td>24.0</td>\n",
       "      <td>3.178054</td>\n",
       "      <td>1.380211</td>\n",
       "      <td>2.648912e+10</td>\n",
       "      <td>1.677722e+07</td>\n",
       "      <td>31.814112</td>\n",
       "      <td>...</td>\n",
       "      <td>0.0</td>\n",
       "      <td>0.0</td>\n",
       "      <td>1.0</td>\n",
       "      <td>0</td>\n",
       "      <td>1</td>\n",
       "      <td>0.0</td>\n",
       "      <td>1.0</td>\n",
       "      <td>0.0</td>\n",
       "      <td>0.0</td>\n",
       "      <td>1</td>\n",
       "    </tr>\n",
       "  </tbody>\n",
       "</table>\n",
       "<p>5 rows × 27 columns</p>\n",
       "</div>"
      ],
      "text/plain": [
       "      Id   Age  Age_Power  Avg_glucose_level_Power   Bmi   Bmi_Log  \\\n",
       "0   9046  67.0  42.663301                 0.926756  36.6  3.600048   \n",
       "1  51676  61.0  39.315669                 0.926379  -1.0       NaN   \n",
       "2  31112  80.0  49.780537                 0.923337  32.5  3.481240   \n",
       "3  60182  49.0  32.477743                 0.925784  34.4  3.538057   \n",
       "4   1665  79.0  49.239063                 0.925848  24.0  3.178054   \n",
       "\n",
       "   Bmi_Log_10       Bmi_Exp     Bmi_Exp_2  Bmi_Power  ...  \\\n",
       "0    1.563481  7.855576e+15  1.041592e+11  50.730499  ...   \n",
       "1         NaN  3.678794e-01  5.000000e-01  -0.955627  ...   \n",
       "2    1.511883  1.301879e+14  6.074001e+09  44.477741  ...   \n",
       "3    1.536558  8.704226e+14  2.266897e+10  47.364744  ...   \n",
       "4    1.380211  2.648912e+10  1.677722e+07  31.814112  ...   \n",
       "\n",
       "   Work_type_never_worked  Work_type_private  Work_type_self_employed  \\\n",
       "0                     0.0                1.0                      0.0   \n",
       "1                     0.0                0.0                      1.0   \n",
       "2                     0.0                1.0                      0.0   \n",
       "3                     0.0                1.0                      0.0   \n",
       "4                     0.0                0.0                      1.0   \n",
       "\n",
       "   Residence_type_encode  Smoking_status_encode  \\\n",
       "0                      1                      0   \n",
       "1                      0                      1   \n",
       "2                      0                      1   \n",
       "3                      1                      2   \n",
       "4                      0                      1   \n",
       "\n",
       "   Smoking_status_formerly_smoked  Smoking_status_never_smoked  \\\n",
       "0                             1.0                          0.0   \n",
       "1                             0.0                          1.0   \n",
       "2                             0.0                          1.0   \n",
       "3                             0.0                          0.0   \n",
       "4                             0.0                          1.0   \n",
       "\n",
       "   Smoking_status_smokes  Smoking_status_unknown  Stroke  \n",
       "0                    0.0                     0.0       1  \n",
       "1                    0.0                     0.0       1  \n",
       "2                    0.0                     0.0       1  \n",
       "3                    1.0                     0.0       1  \n",
       "4                    0.0                     0.0       1  \n",
       "\n",
       "[5 rows x 27 columns]"
      ]
     },
     "execution_count": 42,
     "metadata": {},
     "output_type": "execute_result"
    }
   ],
   "source": [
    "DF_LEVEL_1.head()"
   ]
  },
  {
   "cell_type": "markdown",
   "id": "b85c9e41",
   "metadata": {},
   "source": [
    "## Save Data "
   ]
  },
  {
   "cell_type": "code",
   "execution_count": 43,
   "id": "62bebfab",
   "metadata": {},
   "outputs": [],
   "source": [
    "DF_LEVEL_1.to_csv(os.path.join(\"data\", \"heart_stroke_feature_engineered_level_1.csv\"), index=False)"
   ]
  },
  {
   "cell_type": "markdown",
   "id": "4379b56f",
   "metadata": {},
   "source": [
    "## Handeling Missing Values"
   ]
  },
  {
   "cell_type": "code",
   "execution_count": 52,
   "id": "62447523",
   "metadata": {},
   "outputs": [],
   "source": [
    "DF_LEVEL_2 = DF_LEVEL_1.copy()"
   ]
  },
  {
   "cell_type": "code",
   "execution_count": 53,
   "id": "1154e99b",
   "metadata": {},
   "outputs": [
    {
     "data": {
      "text/plain": [
       "Id                                  0\n",
       "Age                                 0\n",
       "Age_Power                           0\n",
       "Avg_glucose_level_Power             0\n",
       "Bmi                                 0\n",
       "Bmi_Log                           201\n",
       "Bmi_Log_10                        201\n",
       "Bmi_Exp                             0\n",
       "Bmi_Exp_2                           0\n",
       "Bmi_Power                           0\n",
       "Bmi_Squr                            0\n",
       "Bmi_Cube                            0\n",
       "Gender_encode                       0\n",
       "Ever_married_encode                 0\n",
       "Work_type_encode                    0\n",
       "Work_type_children                  0\n",
       "Work_type_govt_job                  0\n",
       "Work_type_never_worked              0\n",
       "Work_type_private                   0\n",
       "Work_type_self_employed             0\n",
       "Residence_type_encode               0\n",
       "Smoking_status_encode               0\n",
       "Smoking_status_formerly_smoked      0\n",
       "Smoking_status_never_smoked         0\n",
       "Smoking_status_smokes               0\n",
       "Smoking_status_unknown              0\n",
       "Stroke                              0\n",
       "Bmi_Imputed_0                       0\n",
       "Bmi_Imputed_mean                    0\n",
       "Bmi_Imputed_median                  0\n",
       "Bmi_Imputed_mode                    0\n",
       "dtype: int64"
      ]
     },
     "execution_count": 53,
     "metadata": {},
     "output_type": "execute_result"
    }
   ],
   "source": [
    "DF_LEVEL_2.isna().sum()"
   ]
  },
  {
   "cell_type": "markdown",
   "id": "c2926755",
   "metadata": {},
   "source": [
    "#### Constant Imputation"
   ]
  },
  {
   "cell_type": "code",
   "execution_count": null,
   "id": "af6a30dd",
   "metadata": {},
   "outputs": [],
   "source": [
    "DF_LEVEL_2['Bmi_Imputed_0'] = DF_LEVEL_2['Bmi'].replace(-1, 0)"
   ]
  },
  {
   "cell_type": "markdown",
   "id": "33af4356",
   "metadata": {},
   "source": [
    "#### Mean Imputation"
   ]
  },
  {
   "cell_type": "code",
   "execution_count": null,
   "id": "904ef187",
   "metadata": {},
   "outputs": [],
   "source": [
    "DF_LEVEL_2['Bmi_Imputed_mean'] = DF_LEVEL_2['Bmi'].replace(-1, DF_LEVEL_1['Bmi'].mean())"
   ]
  },
  {
   "cell_type": "markdown",
   "id": "fce09fde",
   "metadata": {},
   "source": [
    "#### Median Imputation"
   ]
  },
  {
   "cell_type": "code",
   "execution_count": null,
   "id": "04a5407f",
   "metadata": {},
   "outputs": [],
   "source": [
    "DF_LEVEL_2['Bmi_Imputed_median'] = DF_LEVEL_2['Bmi'].replace(-1, DF_LEVEL_1['Bmi'].median())"
   ]
  },
  {
   "cell_type": "markdown",
   "id": "c839395c",
   "metadata": {},
   "source": [
    "#### Mode Imputation"
   ]
  },
  {
   "cell_type": "code",
   "execution_count": null,
   "id": "87f05d83",
   "metadata": {},
   "outputs": [],
   "source": [
    "DF_LEVEL_2['Bmi_Imputed_mode'] = DF_LEVEL_2['Bmi'].replace(-1, DF_LEVEL_1['Bmi'].mode()[0])"
   ]
  },
  {
   "cell_type": "markdown",
   "id": "83b5e664",
   "metadata": {},
   "source": [
    "#### KNN Imputation"
   ]
  },
  {
   "cell_type": "code",
   "execution_count": null,
   "id": "5f7f4ab9",
   "metadata": {},
   "outputs": [],
   "source": [
    "# yet to implement"
   ]
  },
  {
   "cell_type": "markdown",
   "id": "cf3a553b",
   "metadata": {},
   "source": [
    "## Save Data "
   ]
  },
  {
   "cell_type": "code",
   "execution_count": null,
   "id": "1be148f1",
   "metadata": {},
   "outputs": [],
   "source": [
    "DF_LEVEL_2.to_csv(os.path.join(\"data\", \"heart_stroke_feature_engineered_level_2.csv\"), index=False)"
   ]
  },
  {
   "cell_type": "markdown",
   "id": "f57dd761",
   "metadata": {},
   "source": [
    "## Feature Extraction"
   ]
  },
  {
   "cell_type": "code",
   "execution_count": null,
   "id": "397eb364",
   "metadata": {},
   "outputs": [],
   "source": []
  },
  {
   "cell_type": "markdown",
   "id": "bf67d511",
   "metadata": {},
   "source": [
    "## Scaling & Transformation"
   ]
  },
  {
   "cell_type": "code",
   "execution_count": null,
   "id": "31403019",
   "metadata": {},
   "outputs": [],
   "source": []
  },
  {
   "cell_type": "markdown",
   "id": "f1361c1e",
   "metadata": {},
   "source": [
    "## Drop Unwanted Columns"
   ]
  },
  {
   "cell_type": "code",
   "execution_count": 45,
   "id": "544ad1f9",
   "metadata": {},
   "outputs": [],
   "source": [
    "# df.drop(DROP_COLUMNS, axis=1, inplace=True)"
   ]
  },
  {
   "cell_type": "markdown",
   "id": "908c73f8",
   "metadata": {},
   "source": [
    "## Save Data "
   ]
  },
  {
   "cell_type": "code",
   "execution_count": null,
   "id": "9b95920c",
   "metadata": {},
   "outputs": [],
   "source": [
    "# DF_LEVEL_2.to_csv(os.path.join(\"data\", \"heart_stroke_feature_engineered_level_3.csv\"), index=False)"
   ]
  }
 ],
 "metadata": {
  "kernelspec": {
   "display_name": "Python 3",
   "language": "python",
   "name": "python3"
  },
  "language_info": {
   "codemirror_mode": {
    "name": "ipython",
    "version": 3
   },
   "file_extension": ".py",
   "mimetype": "text/x-python",
   "name": "python",
   "nbconvert_exporter": "python",
   "pygments_lexer": "ipython3",
   "version": "3.8.20"
  }
 },
 "nbformat": 4,
 "nbformat_minor": 5
}
